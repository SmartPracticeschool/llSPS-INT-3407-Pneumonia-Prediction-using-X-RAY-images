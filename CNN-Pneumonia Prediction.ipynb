{
 "cells": [
  {
   "cell_type": "markdown",
   "metadata": {},
   "source": [
    "# PNEUMONIA PREDICTION"
   ]
  },
  {
   "cell_type": "code",
   "execution_count": 2,
   "metadata": {},
   "outputs": [],
   "source": [
    "import numpy as np\n",
    "import pandas as pd"
   ]
  },
  {
   "cell_type": "code",
   "execution_count": 3,
   "metadata": {},
   "outputs": [
    {
     "name": "stderr",
     "output_type": "stream",
     "text": [
      "Using TensorFlow backend.\n",
      "C:\\Users\\rachana\\anaconda3\\lib\\site-packages\\tensorflow\\python\\framework\\dtypes.py:516: FutureWarning: Passing (type, 1) or '1type' as a synonym of type is deprecated; in a future version of numpy, it will be understood as (type, (1,)) / '(1,)type'.\n",
      "  _np_qint8 = np.dtype([(\"qint8\", np.int8, 1)])\n",
      "C:\\Users\\rachana\\anaconda3\\lib\\site-packages\\tensorflow\\python\\framework\\dtypes.py:517: FutureWarning: Passing (type, 1) or '1type' as a synonym of type is deprecated; in a future version of numpy, it will be understood as (type, (1,)) / '(1,)type'.\n",
      "  _np_quint8 = np.dtype([(\"quint8\", np.uint8, 1)])\n",
      "C:\\Users\\rachana\\anaconda3\\lib\\site-packages\\tensorflow\\python\\framework\\dtypes.py:518: FutureWarning: Passing (type, 1) or '1type' as a synonym of type is deprecated; in a future version of numpy, it will be understood as (type, (1,)) / '(1,)type'.\n",
      "  _np_qint16 = np.dtype([(\"qint16\", np.int16, 1)])\n",
      "C:\\Users\\rachana\\anaconda3\\lib\\site-packages\\tensorflow\\python\\framework\\dtypes.py:519: FutureWarning: Passing (type, 1) or '1type' as a synonym of type is deprecated; in a future version of numpy, it will be understood as (type, (1,)) / '(1,)type'.\n",
      "  _np_quint16 = np.dtype([(\"quint16\", np.uint16, 1)])\n",
      "C:\\Users\\rachana\\anaconda3\\lib\\site-packages\\tensorflow\\python\\framework\\dtypes.py:520: FutureWarning: Passing (type, 1) or '1type' as a synonym of type is deprecated; in a future version of numpy, it will be understood as (type, (1,)) / '(1,)type'.\n",
      "  _np_qint32 = np.dtype([(\"qint32\", np.int32, 1)])\n",
      "C:\\Users\\rachana\\anaconda3\\lib\\site-packages\\tensorflow\\python\\framework\\dtypes.py:525: FutureWarning: Passing (type, 1) or '1type' as a synonym of type is deprecated; in a future version of numpy, it will be understood as (type, (1,)) / '(1,)type'.\n",
      "  np_resource = np.dtype([(\"resource\", np.ubyte, 1)])\n",
      "C:\\Users\\rachana\\anaconda3\\lib\\site-packages\\tensorboard\\compat\\tensorflow_stub\\dtypes.py:541: FutureWarning: Passing (type, 1) or '1type' as a synonym of type is deprecated; in a future version of numpy, it will be understood as (type, (1,)) / '(1,)type'.\n",
      "  _np_qint8 = np.dtype([(\"qint8\", np.int8, 1)])\n",
      "C:\\Users\\rachana\\anaconda3\\lib\\site-packages\\tensorboard\\compat\\tensorflow_stub\\dtypes.py:542: FutureWarning: Passing (type, 1) or '1type' as a synonym of type is deprecated; in a future version of numpy, it will be understood as (type, (1,)) / '(1,)type'.\n",
      "  _np_quint8 = np.dtype([(\"quint8\", np.uint8, 1)])\n",
      "C:\\Users\\rachana\\anaconda3\\lib\\site-packages\\tensorboard\\compat\\tensorflow_stub\\dtypes.py:543: FutureWarning: Passing (type, 1) or '1type' as a synonym of type is deprecated; in a future version of numpy, it will be understood as (type, (1,)) / '(1,)type'.\n",
      "  _np_qint16 = np.dtype([(\"qint16\", np.int16, 1)])\n",
      "C:\\Users\\rachana\\anaconda3\\lib\\site-packages\\tensorboard\\compat\\tensorflow_stub\\dtypes.py:544: FutureWarning: Passing (type, 1) or '1type' as a synonym of type is deprecated; in a future version of numpy, it will be understood as (type, (1,)) / '(1,)type'.\n",
      "  _np_quint16 = np.dtype([(\"quint16\", np.uint16, 1)])\n",
      "C:\\Users\\rachana\\anaconda3\\lib\\site-packages\\tensorboard\\compat\\tensorflow_stub\\dtypes.py:545: FutureWarning: Passing (type, 1) or '1type' as a synonym of type is deprecated; in a future version of numpy, it will be understood as (type, (1,)) / '(1,)type'.\n",
      "  _np_qint32 = np.dtype([(\"qint32\", np.int32, 1)])\n",
      "C:\\Users\\rachana\\anaconda3\\lib\\site-packages\\tensorboard\\compat\\tensorflow_stub\\dtypes.py:550: FutureWarning: Passing (type, 1) or '1type' as a synonym of type is deprecated; in a future version of numpy, it will be understood as (type, (1,)) / '(1,)type'.\n",
      "  np_resource = np.dtype([(\"resource\", np.ubyte, 1)])\n"
     ]
    }
   ],
   "source": [
    "from keras.models import Sequential\n",
    "from keras.layers import Dense\n",
    "from keras.layers import Convolution2D\n",
    "from keras.layers import MaxPooling2D\n",
    "from keras.layers import Flatten"
   ]
  },
  {
   "cell_type": "code",
   "execution_count": 5,
   "metadata": {},
   "outputs": [],
   "source": [
    "project=Sequential()"
   ]
  },
  {
   "cell_type": "code",
   "execution_count": 6,
   "metadata": {},
   "outputs": [
    {
     "name": "stdout",
     "output_type": "stream",
     "text": [
      "WARNING:tensorflow:From C:\\Users\\rachana\\anaconda3\\lib\\site-packages\\keras\\backend\\tensorflow_backend.py:517: The name tf.placeholder is deprecated. Please use tf.compat.v1.placeholder instead.\n",
      "\n",
      "WARNING:tensorflow:From C:\\Users\\rachana\\anaconda3\\lib\\site-packages\\keras\\backend\\tensorflow_backend.py:4138: The name tf.random_uniform is deprecated. Please use tf.random.uniform instead.\n",
      "\n"
     ]
    }
   ],
   "source": [
    "project.add(Convolution2D(32,(3,3),input_shape=(64,64,3),activation='relu'))"
   ]
  },
  {
   "cell_type": "code",
   "execution_count": 8,
   "metadata": {},
   "outputs": [
    {
     "name": "stdout",
     "output_type": "stream",
     "text": [
      "WARNING:tensorflow:From C:\\Users\\rachana\\anaconda3\\lib\\site-packages\\keras\\backend\\tensorflow_backend.py:3976: The name tf.nn.max_pool is deprecated. Please use tf.nn.max_pool2d instead.\n",
      "\n"
     ]
    }
   ],
   "source": [
    "project.add(MaxPooling2D(pool_size=(2,2)))"
   ]
  },
  {
   "cell_type": "code",
   "execution_count": 10,
   "metadata": {},
   "outputs": [],
   "source": [
    "project.add(Flatten())"
   ]
  },
  {
   "cell_type": "code",
   "execution_count": 11,
   "metadata": {},
   "outputs": [
    {
     "name": "stderr",
     "output_type": "stream",
     "text": [
      "C:\\Users\\rachana\\anaconda3\\lib\\site-packages\\ipykernel_launcher.py:1: UserWarning: Update your `Dense` call to the Keras 2 API: `Dense(activation=\"relu\", units=128, kernel_initializer=\"uniform\")`\n",
      "  \"\"\"Entry point for launching an IPython kernel.\n"
     ]
    }
   ],
   "source": [
    "project.add(Dense(output_dim =128,init ='uniform' , activation='relu'))"
   ]
  },
  {
   "cell_type": "code",
   "execution_count": 12,
   "metadata": {},
   "outputs": [
    {
     "name": "stderr",
     "output_type": "stream",
     "text": [
      "C:\\Users\\rachana\\anaconda3\\lib\\site-packages\\ipykernel_launcher.py:1: UserWarning: Update your `Dense` call to the Keras 2 API: `Dense(activation=\"sigmoid\", units=1, kernel_initializer=\"uniform\")`\n",
      "  \"\"\"Entry point for launching an IPython kernel.\n"
     ]
    }
   ],
   "source": [
    "project.add(Dense(output_dim=1, init='uniform',activation='sigmoid'))"
   ]
  },
  {
   "cell_type": "code",
   "execution_count": 13,
   "metadata": {},
   "outputs": [],
   "source": [
    "from keras.preprocessing.image import ImageDataGenerator\n",
    "train_datagen=ImageDataGenerator(rescale=1./255,shear_range=0.2, zoom_range=0.2 ,horizontal_flip=True)\n",
    "test_datagen=ImageDataGenerator(rescale=1./255)"
   ]
  },
  {
   "cell_type": "code",
   "execution_count": 16,
   "metadata": {},
   "outputs": [
    {
     "name": "stdout",
     "output_type": "stream",
     "text": [
      "Found 5216 images belonging to 2 classes.\n",
      "Found 624 images belonging to 2 classes.\n"
     ]
    }
   ],
   "source": [
    "x_train=train_datagen.flow_from_directory(r\"C:\\Users\\rachana\\Downloads\\chest_xray\\chest_xray\\train\",target_size=(64,64), batch_size=32 ,class_mode='binary')\n",
    "x_test=test_datagen.flow_from_directory(r\"C:\\Users\\rachana\\Downloads\\chest_xray\\chest_xray\\test\" ,target_size=(64,64),batch_size=32 , class_mode='binary')"
   ]
  },
  {
   "cell_type": "code",
   "execution_count": 17,
   "metadata": {},
   "outputs": [
    {
     "name": "stdout",
     "output_type": "stream",
     "text": [
      "{'NORMAL': 0, 'PNEUMONIA': 1}\n"
     ]
    }
   ],
   "source": [
    "print(x_train.class_indices)"
   ]
  },
  {
   "cell_type": "code",
   "execution_count": 18,
   "metadata": {},
   "outputs": [
    {
     "name": "stdout",
     "output_type": "stream",
     "text": [
      "WARNING:tensorflow:From C:\\Users\\rachana\\anaconda3\\lib\\site-packages\\keras\\optimizers.py:790: The name tf.train.Optimizer is deprecated. Please use tf.compat.v1.train.Optimizer instead.\n",
      "\n",
      "WARNING:tensorflow:From C:\\Users\\rachana\\anaconda3\\lib\\site-packages\\keras\\backend\\tensorflow_backend.py:3376: The name tf.log is deprecated. Please use tf.math.log instead.\n",
      "\n",
      "WARNING:tensorflow:From C:\\Users\\rachana\\anaconda3\\lib\\site-packages\\tensorflow\\python\\ops\\nn_impl.py:180: add_dispatch_support.<locals>.wrapper (from tensorflow.python.ops.array_ops) is deprecated and will be removed in a future version.\n",
      "Instructions for updating:\n",
      "Use tf.where in 2.0, which has the same broadcast rule as np.where\n"
     ]
    }
   ],
   "source": [
    "project.compile(loss= 'binary_crossentropy', optimizer=\"adam\" , metrics=[\"accuracy\"])"
   ]
  },
  {
   "cell_type": "code",
   "execution_count": 19,
   "metadata": {},
   "outputs": [
    {
     "name": "stdout",
     "output_type": "stream",
     "text": [
      "WARNING:tensorflow:From C:\\Users\\rachana\\anaconda3\\lib\\site-packages\\keras\\backend\\tensorflow_backend.py:986: The name tf.assign_add is deprecated. Please use tf.compat.v1.assign_add instead.\n",
      "\n",
      "Epoch 1/50\n",
      "250/250 [==============================] - 291s 1s/step - loss: 0.3271 - acc: 0.8556 - val_loss: 0.3671 - val_acc: 0.8283\n",
      "Epoch 2/50\n",
      "250/250 [==============================] - 190s 759ms/step - loss: 0.2121 - acc: 0.9146 - val_loss: 0.3433 - val_acc: 0.8648\n",
      "Epoch 3/50\n",
      "250/250 [==============================] - 175s 700ms/step - loss: 0.1835 - acc: 0.9276 - val_loss: 0.2969 - val_acc: 0.8806\n",
      "Epoch 4/50\n",
      "250/250 [==============================] - 184s 734ms/step - loss: 0.1764 - acc: 0.9324 - val_loss: 0.4634 - val_acc: 0.8359\n",
      "Epoch 5/50\n",
      "250/250 [==============================] - 185s 740ms/step - loss: 0.1473 - acc: 0.9436 - val_loss: 0.4639 - val_acc: 0.8420\n",
      "Epoch 6/50\n",
      "250/250 [==============================] - 183s 734ms/step - loss: 0.1487 - acc: 0.9415 - val_loss: 0.3757 - val_acc: 0.8816\n",
      "Epoch 7/50\n",
      "250/250 [==============================] - 181s 725ms/step - loss: 0.1472 - acc: 0.9452 - val_loss: 0.7869 - val_acc: 0.7731\n",
      "Epoch 8/50\n",
      "250/250 [==============================] - 172s 687ms/step - loss: 0.1356 - acc: 0.9483 - val_loss: 0.4523 - val_acc: 0.8679\n",
      "Epoch 9/50\n",
      "250/250 [==============================] - 176s 704ms/step - loss: 0.1255 - acc: 0.9533 - val_loss: 0.4447 - val_acc: 0.8847\n",
      "Epoch 10/50\n",
      "250/250 [==============================] - 184s 736ms/step - loss: 0.1207 - acc: 0.9553 - val_loss: 0.5361 - val_acc: 0.8852\n",
      "Epoch 11/50\n",
      "250/250 [==============================] - 196s 785ms/step - loss: 0.1221 - acc: 0.9531 - val_loss: 0.3661 - val_acc: 0.8999\n",
      "Epoch 12/50\n",
      "250/250 [==============================] - 165s 659ms/step - loss: 0.1150 - acc: 0.9563 - val_loss: 0.5294 - val_acc: 0.8623\n",
      "Epoch 13/50\n",
      "250/250 [==============================] - 167s 669ms/step - loss: 0.1206 - acc: 0.9554 - val_loss: 0.4547 - val_acc: 0.8816\n",
      "Epoch 14/50\n",
      "250/250 [==============================] - 186s 744ms/step - loss: 0.1120 - acc: 0.9566 - val_loss: 0.4618 - val_acc: 0.8689\n",
      "Epoch 15/50\n",
      "250/250 [==============================] - 179s 718ms/step - loss: 0.1204 - acc: 0.9550 - val_loss: 0.3707 - val_acc: 0.8918\n",
      "Epoch 16/50\n",
      "250/250 [==============================] - 172s 689ms/step - loss: 0.1046 - acc: 0.9600 - val_loss: 0.4818 - val_acc: 0.8826\n",
      "Epoch 17/50\n",
      "250/250 [==============================] - 200s 802ms/step - loss: 0.1041 - acc: 0.9645 - val_loss: 0.3965 - val_acc: 0.8867\n",
      "Epoch 18/50\n",
      "250/250 [==============================] - 176s 706ms/step - loss: 0.1003 - acc: 0.9616 - val_loss: 0.5436 - val_acc: 0.8684\n",
      "Epoch 19/50\n",
      "250/250 [==============================] - 183s 732ms/step - loss: 0.0953 - acc: 0.9649 - val_loss: 0.3518 - val_acc: 0.9116\n",
      "Epoch 20/50\n",
      "250/250 [==============================] - 203s 814ms/step - loss: 0.1004 - acc: 0.9619 - val_loss: 0.4138 - val_acc: 0.8929\n",
      "Epoch 21/50\n",
      "250/250 [==============================] - 200s 799ms/step - loss: 0.0930 - acc: 0.9663 - val_loss: 0.6100 - val_acc: 0.8547\n",
      "Epoch 22/50\n",
      "250/250 [==============================] - 1206s 5s/step - loss: 0.0954 - acc: 0.9647 - val_loss: 0.6079 - val_acc: 0.8465\n",
      "Epoch 23/50\n",
      "250/250 [==============================] - 195s 781ms/step - loss: 0.0893 - acc: 0.9665 - val_loss: 0.3986 - val_acc: 0.9141\n",
      "Epoch 24/50\n",
      "250/250 [==============================] - 304s 1s/step - loss: 0.0856 - acc: 0.9684 - val_loss: 0.4223 - val_acc: 0.8770\n",
      "Epoch 25/50\n",
      "250/250 [==============================] - 291s 1s/step - loss: 0.0832 - acc: 0.9688 - val_loss: 0.6137 - val_acc: 0.8598\n",
      "Epoch 26/50\n",
      "250/250 [==============================] - 295s 1s/step - loss: 0.0870 - acc: 0.9679 - val_loss: 0.8199 - val_acc: 0.8465\n",
      "Epoch 27/50\n",
      "250/250 [==============================] - 487s 2s/step - loss: 0.0831 - acc: 0.9690 - val_loss: 0.3939 - val_acc: 0.9144\n",
      "Epoch 28/50\n",
      "250/250 [==============================] - 165s 661ms/step - loss: 0.0855 - acc: 0.9710 - val_loss: 0.4932 - val_acc: 0.8908\n",
      "Epoch 29/50\n",
      "250/250 [==============================] - 168s 673ms/step - loss: 0.0822 - acc: 0.9689 - val_loss: 0.5931 - val_acc: 0.8704\n",
      "Epoch 30/50\n",
      "250/250 [==============================] - 171s 682ms/step - loss: 0.0832 - acc: 0.9694 - val_loss: 0.6657 - val_acc: 0.8577\n",
      "Epoch 31/50\n",
      "250/250 [==============================] - 170s 679ms/step - loss: 0.0827 - acc: 0.9690 - val_loss: 0.6120 - val_acc: 0.8694\n",
      "Epoch 32/50\n",
      "250/250 [==============================] - 172s 687ms/step - loss: 0.0812 - acc: 0.9712 - val_loss: 0.5646 - val_acc: 0.8699\n",
      "Epoch 33/50\n",
      "250/250 [==============================] - 170s 681ms/step - loss: 0.0758 - acc: 0.9710 - val_loss: 0.5097 - val_acc: 0.8867\n",
      "Epoch 34/50\n",
      "250/250 [==============================] - 171s 684ms/step - loss: 0.0671 - acc: 0.9768 - val_loss: 0.7665 - val_acc: 0.8473\n",
      "Epoch 35/50\n",
      "250/250 [==============================] - 166s 663ms/step - loss: 0.0773 - acc: 0.9704 - val_loss: 0.6240 - val_acc: 0.8653\n",
      "Epoch 36/50\n",
      "250/250 [==============================] - 168s 673ms/step - loss: 0.0705 - acc: 0.9734 - val_loss: 0.5068 - val_acc: 0.9024\n",
      "Epoch 37/50\n",
      "250/250 [==============================] - 167s 668ms/step - loss: 0.0681 - acc: 0.9750 - val_loss: 0.4674 - val_acc: 0.9014\n",
      "Epoch 38/50\n",
      "250/250 [==============================] - 172s 687ms/step - loss: 0.0656 - acc: 0.9760 - val_loss: 0.4581 - val_acc: 0.9116\n",
      "Epoch 39/50\n",
      "250/250 [==============================] - 167s 669ms/step - loss: 0.0731 - acc: 0.9720 - val_loss: 0.6019 - val_acc: 0.8913\n",
      "Epoch 40/50\n",
      "250/250 [==============================] - 167s 667ms/step - loss: 0.0646 - acc: 0.9776 - val_loss: 0.6250 - val_acc: 0.8791\n",
      "Epoch 41/50\n",
      "250/250 [==============================] - 168s 673ms/step - loss: 0.0704 - acc: 0.9772 - val_loss: 0.5757 - val_acc: 0.8948\n",
      "Epoch 42/50\n",
      "250/250 [==============================] - 172s 687ms/step - loss: 0.0689 - acc: 0.9741 - val_loss: 0.6309 - val_acc: 0.8720\n",
      "Epoch 43/50\n",
      "250/250 [==============================] - 171s 685ms/step - loss: 0.0705 - acc: 0.9738 - val_loss: 0.4391 - val_acc: 0.9172\n",
      "Epoch 44/50\n",
      "250/250 [==============================] - 173s 693ms/step - loss: 0.0670 - acc: 0.9761 - val_loss: 0.5316 - val_acc: 0.8918\n",
      "Epoch 45/50\n",
      "250/250 [==============================] - 169s 675ms/step - loss: 0.0653 - acc: 0.9774 - val_loss: 0.5704 - val_acc: 0.8943\n",
      "Epoch 46/50\n",
      "250/250 [==============================] - 166s 663ms/step - loss: 0.0633 - acc: 0.9756 - val_loss: 0.4613 - val_acc: 0.9040\n",
      "Epoch 47/50\n",
      "250/250 [==============================] - 177s 707ms/step - loss: 0.0601 - acc: 0.9784 - val_loss: 0.4542 - val_acc: 0.9032\n",
      "Epoch 48/50\n",
      "250/250 [==============================] - 173s 691ms/step - loss: 0.0680 - acc: 0.9755 - val_loss: 0.4471 - val_acc: 0.9035\n",
      "Epoch 49/50\n",
      "250/250 [==============================] - 173s 690ms/step - loss: 0.0539 - acc: 0.9806 - val_loss: 0.4646 - val_acc: 0.9035\n",
      "Epoch 50/50\n",
      "250/250 [==============================] - 173s 692ms/step - loss: 0.0618 - acc: 0.9786 - val_loss: 0.6881 - val_acc: 0.8689\n"
     ]
    },
    {
     "data": {
      "text/plain": [
       "<keras.callbacks.History at 0x1e4b4307b48>"
      ]
     },
     "execution_count": 19,
     "metadata": {},
     "output_type": "execute_result"
    }
   ],
   "source": [
    "project.fit_generator(x_train , steps_per_epoch =250,epochs =50,validation_data=x_test ,validation_steps= 63)"
   ]
  },
  {
   "cell_type": "code",
   "execution_count": 21,
   "metadata": {},
   "outputs": [],
   "source": [
    "project.save(\"pneumonia.h5\")"
   ]
  },
  {
   "cell_type": "code",
   "execution_count": 23,
   "metadata": {},
   "outputs": [],
   "source": [
    "from keras.preprocessing import image"
   ]
  },
  {
   "cell_type": "code",
   "execution_count": 24,
   "metadata": {},
   "outputs": [],
   "source": [
    "img=image.load_img(r\"C:\\Users\\rachana\\Downloads\\chestimg.jpg\" ,target_size=(64,64))"
   ]
  },
  {
   "cell_type": "code",
   "execution_count": 25,
   "metadata": {},
   "outputs": [],
   "source": [
    "x=image.img_to_array(img)\n",
    "x=np.expand_dims(x,axis=0)"
   ]
  },
  {
   "cell_type": "code",
   "execution_count": 27,
   "metadata": {},
   "outputs": [],
   "source": [
    "pred =project.predict_classes(x)"
   ]
  },
  {
   "cell_type": "code",
   "execution_count": 28,
   "metadata": {},
   "outputs": [
    {
     "data": {
      "text/plain": [
       "array([[1]])"
      ]
     },
     "execution_count": 28,
     "metadata": {},
     "output_type": "execute_result"
    }
   ],
   "source": [
    "pred"
   ]
  },
  {
   "cell_type": "code",
   "execution_count": 32,
   "metadata": {},
   "outputs": [],
   "source": [
    "img=image.load_img(r\"C:\\Users\\rachana\\Downloads\\chest1.png\" ,target_size=(64,64))\n",
    "x=image.img_to_array(img)\n",
    "x=np.expand_dims(x,axis=0)\n",
    "pred =project.predict_classes(x)"
   ]
  },
  {
   "cell_type": "code",
   "execution_count": 33,
   "metadata": {},
   "outputs": [
    {
     "data": {
      "text/plain": [
       "array([[0]])"
      ]
     },
     "execution_count": 33,
     "metadata": {},
     "output_type": "execute_result"
    }
   ],
   "source": [
    "pred"
   ]
  },
  {
   "cell_type": "code",
   "execution_count": null,
   "metadata": {},
   "outputs": [],
   "source": []
  }
 ],
 "metadata": {
  "kernelspec": {
   "display_name": "Python 3",
   "language": "python",
   "name": "python3"
  },
  "language_info": {
   "codemirror_mode": {
    "name": "ipython",
    "version": 3
   },
   "file_extension": ".py",
   "mimetype": "text/x-python",
   "name": "python",
   "nbconvert_exporter": "python",
   "pygments_lexer": "ipython3",
   "version": "3.7.6"
  }
 },
 "nbformat": 4,
 "nbformat_minor": 4
}
